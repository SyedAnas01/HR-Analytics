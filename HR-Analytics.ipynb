{
 "cells": [
  {
   "cell_type": "code",
   "execution_count": 5,
   "id": "fa26468e",
   "metadata": {},
   "outputs": [
    {
     "name": "stdout",
     "output_type": "stream",
     "text": [
      "Accuracy: 0.81\n",
      "\n",
      "Classification Report:\n",
      "               precision    recall  f1-score   support\n",
      "\n",
      "           0       0.85      0.94      0.89       370\n",
      "           1       0.29      0.14      0.19        71\n",
      "\n",
      "    accuracy                           0.81       441\n",
      "   macro avg       0.57      0.54      0.54       441\n",
      "weighted avg       0.76      0.81      0.78       441\n",
      "\n",
      "Predictions saved to 'attrition_predictions.csv'.\n",
      "\n",
      "Confusion Matrix:\n",
      " [[346  24]\n",
      " [ 61  10]]\n"
     ]
    },
    {
     "data": {
      "image/png": "[encoded data removed]",
      "text/plain": [
       "<Figure size 640x480 with 1 Axes>"
      ]
     },
     "metadata": {},
     "output_type": "display_data"
    }
   ],
   "source": [
    "import pandas as pd\n",
    "from sklearn.model_selection import train_test_split\n",
    "from sklearn.ensemble import RandomForestClassifier\n",
    "from sklearn.metrics import accuracy_score, classification_report, confusion_matrix\n",
    "from sklearn.impute import SimpleImputer\n",
    "import matplotlib.pyplot as plt\n",
    "import seaborn as sns\n",
    "\n",
    "# Load dataset\n",
    "data = pd.read_csv(\"employee_attrition.csv\")\n",
    "\n",
    "# Step 1: Data Preprocessing\n",
    "imputer = SimpleImputer(strategy='mean')\n",
    "data[['Age', 'MonthlyIncome', 'JobSatisfaction']] = imputer.fit_transform(\n",
    "    data[['Age', 'MonthlyIncome', 'JobSatisfaction']]\n",
    ")\n",
    "\n",
    "# Encode categorical variables\n",
    "data['OverTime'] = data['OverTime'].apply(lambda x: 1 if x == 'Yes' else 0)\n",
    "data['Attrition'] = data['Attrition'].apply(lambda x: 1 if x == 'Yes' else 0)\n",
    "\n",
    "# Step 2: Feature Selection\n",
    "X = data[['Age', 'MonthlyIncome', 'OverTime', 'JobSatisfaction']]\n",
    "y = data['Attrition']\n",
    "\n",
    "# Step 3: Train-Test Split\n",
    "X_train, X_test, y_train, y_test = train_test_split(X, y, test_size=0.3, stratify=y, random_state=42)\n",
    "\n",
    "# Step 4: Train the Model\n",
    "model = RandomForestClassifier(n_estimators=100, random_state=42, class_weight='balanced')\n",
    "model.fit(X_train, y_train)\n",
    "\n",
    "# Step 5: Make Predictions and Evaluate the Model\n",
    "y_pred = model.predict(X_test)\n",
    "\n",
    "print(f\"Accuracy: {accuracy_score(y_test, y_pred):.2f}\")\n",
    "print(\"\\nClassification Report:\\n\", classification_report(y_test, y_pred))\n",
    "\n",
    "# Step 6: Save Predictions to CSV\n",
    "predictions = pd.DataFrame({'Actual': y_test, 'Predicted': y_pred})\n",
    "predictions.to_csv('attrition_predictions.csv', index=False)\n",
    "\n",
    "print(\"Predictions saved to 'attrition_predictions.csv'.\")\n",
    "\n",
    "# Step 7: Display Confusion Matrix and Feature Importances\n",
    "print(\"\\nConfusion Matrix:\\n\", confusion_matrix(y_test, y_pred))\n",
    "\n",
    "feature_importances = model.feature_importances_\n",
    "sns.barplot(x=feature_importances, y=X.columns)\n",
    "plt.title(\"Feature Importance\")\n",
    "plt.show()\n"
   ]
  },
  {
   "cell_type": "code",
   "execution_count": null,
   "id": "09e28085",
   "metadata": {},
   "outputs": [],
   "source": []
  }
 ],
 "metadata": {
  "kernelspec": {
   "display_name": "Python 3 (ipykernel)",
   "language": "python",
   "name": "python3"
  },
  "language_info": {
   "codemirror_mode": {
    "name": "ipython",
    "version": 3
   },
   "file_extension": ".py",
   "mimetype": "text/x-python",
   "name": "python",
   "nbconvert_exporter": "python",
   "pygments_lexer": "ipython3",
   "version": "3.11.5"
  }
 },
 "nbformat": 4,
 "nbformat_minor": 5
}
